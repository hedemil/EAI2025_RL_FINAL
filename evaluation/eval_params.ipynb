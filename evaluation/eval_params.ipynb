{
 "cells": [
  {
   "cell_type": "markdown",
   "metadata": {},
   "source": [
    "# Evaluate PPO Parameters (Single File)\n",
    "\n",
    "Pick one `.npy` file from `parameters/` and evaluate it using the same network configuration as training."
   ]
  },
  {
   "cell_type": "code",
   "execution_count": null,
   "id": "fb9a3fce",
   "metadata": {},
   "outputs": [
    {
     "data": {
      "text/plain": [
       "PosixPath('/home/loke/Desktop/EAI2025_RL_FINAL')"
      ]
     },
     "execution_count": 4,
     "metadata": {},
     "output_type": "execute_result"
    }
   ],
   "source": [
    "from pathlib import Path\n",
    "import os, sys\n",
    "import numpy as np\n",
    "import jax\n",
    "\n",
    "# Headless rendering for MuJoCo\n",
    "os.environ.setdefault('MUJOCO_GL', 'egl')\n"
   ]
  },
  {
   "cell_type": "markdown",
   "id": "971a0cf9",
   "metadata": {},
   "source": [
    "## Load in paths"
   ]
  },
  {
   "cell_type": "code",
   "execution_count": null,
   "id": "846f6b32",
   "metadata": {},
   "outputs": [
    {
     "name": "stdout",
     "output_type": "stream",
     "text": [
      "Available models:\n",
      "===================================\n",
      "'baseline'\n",
      "'with_knee'\n",
      "'with_height'\n",
      "'with_height_and_knee'\n",
      "\n",
      "\n",
      "Available Environments:\n",
      "===================================\n",
      "'custom'\n",
      "'custom_debug'\n",
      "'stairs'\n"
     ]
    }
   ],
   "source": [
    "# Get paths\n",
    "from config import ProjectPaths\n",
    "# Models\n",
    "model_paths = {\n",
    "    'baseline': ProjectPaths.PARAMS_BASELINE,\n",
    "    'with_knee': ProjectPaths.PARAMS_WITH_HEIGHT,\n",
    "    'with_height': ProjectPaths.PARAMS_WITH_HEIGHT,\n",
    "    'with_height_and_knee': ProjectPaths.PARAMS_WITH_HEIGHT_AND_KNEE\n",
    "}\n",
    "\n",
    "env_paths = {\n",
    "    'custom': ProjectPaths.CUSTOM_ENV_XML, # Maybe should be named default\n",
    "    'custom_debug': ProjectPaths.CUSTOM_ENV_DEBUG_XML,\n",
    "    'stairs': ProjectPaths.STAIRS_ENV_XML\n",
    "}\n",
    "\n",
    "print(\"Available models:\")\n",
    "print(\"=\" * 35)\n",
    "for key in model_paths:\n",
    "    print(f\"'{key}'\")\n",
    "\n",
    "print(\"\\n\")\n",
    "\n",
    "print(\"Available Environments:\")\n",
    "print(\"=\" * 35)\n",
    "for key in env_paths:\n",
    "    print(f\"'{key}'\")\n",
    "\n"
   ]
  },
  {
   "cell_type": "markdown",
   "id": "45315559",
   "metadata": {},
   "source": [
    "## Choose model and environment"
   ]
  },
  {
   "cell_type": "code",
   "execution_count": null,
   "id": "6c7d2063",
   "metadata": {},
   "outputs": [],
   "source": [
    "model = model_paths['with_height_and_knee'] # Enter model here\n",
    "env = env_paths['custom'] # Enter environment here"
   ]
  },
  {
   "cell_type": "code",
   "execution_count": 43,
   "id": "576e72db",
   "metadata": {},
   "outputs": [
    {
     "name": "stdout",
     "output_type": "stream",
     "text": [
      "Selected: /home/loke/Desktop/EAI2025_RL_FINAL/parameters/params_baseline.npy\n"
     ]
    },
    {
     "data": {
      "text/plain": [
       "PosixPath('/home/loke/Desktop/EAI2025_RL_FINAL/parameters/params_baseline.npy')"
      ]
     },
     "execution_count": 43,
     "metadata": {},
     "output_type": "execute_result"
    }
   ],
   "source": [
    "# Paste a path from the list above\n",
    "from pathlib import Path\n",
    "PARAM_FILE = model\n",
    "PARAM_FILE = Path(PARAM_FILE)\n",
    "print('Selected:', PARAM_FILE)\n",
    "assert PARAM_FILE.exists(), f'File not found: {PARAM_FILE}'\n",
    "PARAM_FILE\n"
   ]
  },
  {
   "cell_type": "markdown",
   "id": "2fdd55cc",
   "metadata": {},
   "source": [
    "## Run Evaluation"
   ]
  },
  {
   "cell_type": "code",
   "execution_count": 44,
   "id": "467d5317",
   "metadata": {},
   "outputs": [
    {
     "ename": "TypeError",
     "evalue": "sub got incompatible shapes for broadcasting: (52,), (48,).",
     "output_type": "error",
     "traceback": [
      "\u001b[0;31m---------------------------------------------------------------------------\u001b[0m",
      "\u001b[0;31mTypeError\u001b[0m                                 Traceback (most recent call last)",
      "Cell \u001b[0;32mIn[44], line 42\u001b[0m\n\u001b[1;32m     39\u001b[0m params_tuple \u001b[38;5;241m=\u001b[39m (normalizer_params, policy_params, value_params)\n\u001b[1;32m     40\u001b[0m inference_fn \u001b[38;5;241m=\u001b[39m make_policy(params_tuple, deterministic\u001b[38;5;241m=\u001b[39m\u001b[38;5;28;01mTrue\u001b[39;00m)\n\u001b[0;32m---> 42\u001b[0m \u001b[43mevaluate_policy\u001b[49m\u001b[43m(\u001b[49m\u001b[43menv\u001b[49m\u001b[43m,\u001b[49m\u001b[43m \u001b[49m\u001b[43mjax\u001b[49m\u001b[38;5;241;43m.\u001b[39;49m\u001b[43mjit\u001b[49m\u001b[43m(\u001b[49m\u001b[43minference_fn\u001b[49m\u001b[43m)\u001b[49m\u001b[43m,\u001b[49m\u001b[43m \u001b[49m\u001b[43mjit_step\u001b[49m\u001b[43m,\u001b[49m\u001b[43m \u001b[49m\u001b[43mjit_reset\u001b[49m\u001b[43m,\u001b[49m\u001b[43m \u001b[49m\u001b[43menv_cfg\u001b[49m\u001b[43m,\u001b[49m\u001b[43m \u001b[49m\u001b[43menv\u001b[49m\u001b[43m)\u001b[49m\n",
      "File \u001b[0;32m~/Desktop/EAI2025_RL_FINAL/utils.py:262\u001b[0m, in \u001b[0;36mevaluate_policy\u001b[0;34m(env, jit_inference_fn, jit_step, jit_reset, env_cfg, eval_env, velocity_kick_range, kick_duration_range)\u001b[0m\n\u001b[1;32m    260\u001b[0m     rng \u001b[38;5;241m=\u001b[39m sample_pert(rng)\n\u001b[1;32m    261\u001b[0m act_rng, rng \u001b[38;5;241m=\u001b[39m jax\u001b[38;5;241m.\u001b[39mrandom\u001b[38;5;241m.\u001b[39msplit(rng)\n\u001b[0;32m--> 262\u001b[0m ctrl, _ \u001b[38;5;241m=\u001b[39m \u001b[43mjit_inference_fn\u001b[49m\u001b[43m(\u001b[49m\u001b[43mstate\u001b[49m\u001b[38;5;241;43m.\u001b[39;49m\u001b[43mobs\u001b[49m\u001b[43m,\u001b[49m\u001b[43m \u001b[49m\u001b[43mact_rng\u001b[49m\u001b[43m)\u001b[49m\n\u001b[1;32m    263\u001b[0m state \u001b[38;5;241m=\u001b[39m jit_step(state, ctrl)\n\u001b[1;32m    264\u001b[0m state\u001b[38;5;241m.\u001b[39minfo[\u001b[38;5;124m\"\u001b[39m\u001b[38;5;124mcommand\u001b[39m\u001b[38;5;124m\"\u001b[39m] \u001b[38;5;241m=\u001b[39m command\n",
      "    \u001b[0;31m[... skipping hidden 14 frame]\u001b[0m\n",
      "File \u001b[0;32m~/miniconda3/envs/FinalRL/lib/python3.10/site-packages/brax/training/agents/ppo/networks.py:47\u001b[0m, in \u001b[0;36mmake_inference_fn.<locals>.make_policy.<locals>.policy\u001b[0;34m(observations, key_sample)\u001b[0m\n\u001b[1;32m     43\u001b[0m \u001b[38;5;28;01mdef\u001b[39;00m\u001b[38;5;250m \u001b[39m\u001b[38;5;21mpolicy\u001b[39m(\n\u001b[1;32m     44\u001b[0m     observations: types\u001b[38;5;241m.\u001b[39mObservation, key_sample: PRNGKey\n\u001b[1;32m     45\u001b[0m ) \u001b[38;5;241m-\u001b[39m\u001b[38;5;241m>\u001b[39m Tuple[types\u001b[38;5;241m.\u001b[39mAction, types\u001b[38;5;241m.\u001b[39mExtra]:\n\u001b[1;32m     46\u001b[0m   param_subset \u001b[38;5;241m=\u001b[39m (params[\u001b[38;5;241m0\u001b[39m], params[\u001b[38;5;241m1\u001b[39m])  \u001b[38;5;66;03m# normalizer and policy params\u001b[39;00m\n\u001b[0;32m---> 47\u001b[0m   logits \u001b[38;5;241m=\u001b[39m \u001b[43mpolicy_network\u001b[49m\u001b[38;5;241;43m.\u001b[39;49m\u001b[43mapply\u001b[49m\u001b[43m(\u001b[49m\u001b[38;5;241;43m*\u001b[39;49m\u001b[43mparam_subset\u001b[49m\u001b[43m,\u001b[49m\u001b[43m \u001b[49m\u001b[43mobservations\u001b[49m\u001b[43m)\u001b[49m\n\u001b[1;32m     48\u001b[0m   \u001b[38;5;28;01mif\u001b[39;00m deterministic:\n\u001b[1;32m     49\u001b[0m     \u001b[38;5;28;01mreturn\u001b[39;00m ppo_networks\u001b[38;5;241m.\u001b[39mparametric_action_distribution\u001b[38;5;241m.\u001b[39mmode(logits), {}\n",
      "File \u001b[0;32m~/miniconda3/envs/FinalRL/lib/python3.10/site-packages/brax/training/networks.py:352\u001b[0m, in \u001b[0;36mmake_policy_network.<locals>.apply\u001b[0;34m(processor_params, policy_params, obs)\u001b[0m\n\u001b[1;32m    350\u001b[0m \u001b[38;5;28;01mdef\u001b[39;00m\u001b[38;5;250m \u001b[39m\u001b[38;5;21mapply\u001b[39m(processor_params, policy_params, obs):\n\u001b[1;32m    351\u001b[0m   \u001b[38;5;28;01mif\u001b[39;00m \u001b[38;5;28misinstance\u001b[39m(obs, Mapping):\n\u001b[0;32m--> 352\u001b[0m     obs \u001b[38;5;241m=\u001b[39m \u001b[43mpreprocess_observations_fn\u001b[49m\u001b[43m(\u001b[49m\n\u001b[1;32m    353\u001b[0m \u001b[43m        \u001b[49m\u001b[43mobs\u001b[49m\u001b[43m[\u001b[49m\u001b[43mobs_key\u001b[49m\u001b[43m]\u001b[49m\u001b[43m,\u001b[49m\u001b[43m \u001b[49m\u001b[43mnormalizer_select\u001b[49m\u001b[43m(\u001b[49m\u001b[43mprocessor_params\u001b[49m\u001b[43m,\u001b[49m\u001b[43m \u001b[49m\u001b[43mobs_key\u001b[49m\u001b[43m)\u001b[49m\n\u001b[1;32m    354\u001b[0m \u001b[43m    \u001b[49m\u001b[43m)\u001b[49m\n\u001b[1;32m    355\u001b[0m   \u001b[38;5;28;01melse\u001b[39;00m:\n\u001b[1;32m    356\u001b[0m     obs \u001b[38;5;241m=\u001b[39m preprocess_observations_fn(obs, processor_params)\n",
      "File \u001b[0;32m~/miniconda3/envs/FinalRL/lib/python3.10/site-packages/brax/training/acme/running_statistics.py:217\u001b[0m, in \u001b[0;36mnormalize\u001b[0;34m(batch, mean_std, max_abs_value)\u001b[0m\n\u001b[1;32m    214\u001b[0m     data \u001b[38;5;241m=\u001b[39m jnp\u001b[38;5;241m.\u001b[39mclip(data, \u001b[38;5;241m-\u001b[39mmax_abs_value, \u001b[38;5;241m+\u001b[39mmax_abs_value)\n\u001b[1;32m    215\u001b[0m   \u001b[38;5;28;01mreturn\u001b[39;00m data\n\u001b[0;32m--> 217\u001b[0m \u001b[38;5;28;01mreturn\u001b[39;00m \u001b[43mjax\u001b[49m\u001b[38;5;241;43m.\u001b[39;49m\u001b[43mtree_util\u001b[49m\u001b[38;5;241;43m.\u001b[39;49m\u001b[43mtree_map\u001b[49m\u001b[43m(\u001b[49m\u001b[43mnormalize_leaf\u001b[49m\u001b[43m,\u001b[49m\u001b[43m \u001b[49m\u001b[43mbatch\u001b[49m\u001b[43m,\u001b[49m\u001b[43m \u001b[49m\u001b[43mmean_std\u001b[49m\u001b[38;5;241;43m.\u001b[39;49m\u001b[43mmean\u001b[49m\u001b[43m,\u001b[49m\u001b[43m \u001b[49m\u001b[43mmean_std\u001b[49m\u001b[38;5;241;43m.\u001b[39;49m\u001b[43mstd\u001b[49m\u001b[43m)\u001b[49m\n",
      "    \u001b[0;31m[... skipping hidden 2 frame]\u001b[0m\n",
      "File \u001b[0;32m~/miniconda3/envs/FinalRL/lib/python3.10/site-packages/brax/training/acme/running_statistics.py:211\u001b[0m, in \u001b[0;36mnormalize.<locals>.normalize_leaf\u001b[0;34m(data, mean, std)\u001b[0m\n\u001b[1;32m    209\u001b[0m \u001b[38;5;28;01mif\u001b[39;00m \u001b[38;5;129;01mnot\u001b[39;00m jnp\u001b[38;5;241m.\u001b[39missubdtype(data\u001b[38;5;241m.\u001b[39mdtype, jnp\u001b[38;5;241m.\u001b[39minexact):\n\u001b[1;32m    210\u001b[0m   \u001b[38;5;28;01mreturn\u001b[39;00m data\n\u001b[0;32m--> 211\u001b[0m data \u001b[38;5;241m=\u001b[39m (\u001b[43mdata\u001b[49m\u001b[43m \u001b[49m\u001b[38;5;241;43m-\u001b[39;49m\u001b[43m \u001b[49m\u001b[43mmean\u001b[49m) \u001b[38;5;241m/\u001b[39m std\n\u001b[1;32m    212\u001b[0m \u001b[38;5;28;01mif\u001b[39;00m max_abs_value \u001b[38;5;129;01mis\u001b[39;00m \u001b[38;5;129;01mnot\u001b[39;00m \u001b[38;5;28;01mNone\u001b[39;00m:\n\u001b[1;32m    213\u001b[0m   \u001b[38;5;66;03m# TODO(b/124318564): remove pylint directive\u001b[39;00m\n\u001b[1;32m    214\u001b[0m   data \u001b[38;5;241m=\u001b[39m jnp\u001b[38;5;241m.\u001b[39mclip(data, \u001b[38;5;241m-\u001b[39mmax_abs_value, \u001b[38;5;241m+\u001b[39mmax_abs_value)\n",
      "File \u001b[0;32m~/miniconda3/envs/FinalRL/lib/python3.10/site-packages/jax/_src/numpy/array_methods.py:1083\u001b[0m, in \u001b[0;36m_forward_operator_to_aval.<locals>.op\u001b[0;34m(self, *args)\u001b[0m\n\u001b[1;32m   1082\u001b[0m \u001b[38;5;28;01mdef\u001b[39;00m\u001b[38;5;250m \u001b[39m\u001b[38;5;21mop\u001b[39m(\u001b[38;5;28mself\u001b[39m, \u001b[38;5;241m*\u001b[39margs):\n\u001b[0;32m-> 1083\u001b[0m   \u001b[38;5;28;01mreturn\u001b[39;00m \u001b[38;5;28;43mgetattr\u001b[39;49m\u001b[43m(\u001b[49m\u001b[38;5;28;43mself\u001b[39;49m\u001b[38;5;241;43m.\u001b[39;49m\u001b[43maval\u001b[49m\u001b[43m,\u001b[49m\u001b[43m \u001b[49m\u001b[38;5;124;43mf\u001b[39;49m\u001b[38;5;124;43m\"\u001b[39;49m\u001b[38;5;124;43m_\u001b[39;49m\u001b[38;5;132;43;01m{\u001b[39;49;00m\u001b[43mname\u001b[49m\u001b[38;5;132;43;01m}\u001b[39;49;00m\u001b[38;5;124;43m\"\u001b[39;49m\u001b[43m)\u001b[49m\u001b[43m(\u001b[49m\u001b[38;5;28;43mself\u001b[39;49m\u001b[43m,\u001b[49m\u001b[43m \u001b[49m\u001b[38;5;241;43m*\u001b[39;49m\u001b[43margs\u001b[49m\u001b[43m)\u001b[49m\n",
      "File \u001b[0;32m~/miniconda3/envs/FinalRL/lib/python3.10/site-packages/jax/_src/numpy/array_methods.py:583\u001b[0m, in \u001b[0;36m_defer_to_unrecognized_arg.<locals>.deferring_binary_op\u001b[0;34m(self, other)\u001b[0m\n\u001b[1;32m    581\u001b[0m args \u001b[38;5;241m=\u001b[39m (other, \u001b[38;5;28mself\u001b[39m) \u001b[38;5;28;01mif\u001b[39;00m swap \u001b[38;5;28;01melse\u001b[39;00m (\u001b[38;5;28mself\u001b[39m, other)\n\u001b[1;32m    582\u001b[0m \u001b[38;5;28;01mif\u001b[39;00m \u001b[38;5;28misinstance\u001b[39m(other, _accepted_binop_types):\n\u001b[0;32m--> 583\u001b[0m   \u001b[38;5;28;01mreturn\u001b[39;00m \u001b[43mbinary_op\u001b[49m\u001b[43m(\u001b[49m\u001b[38;5;241;43m*\u001b[39;49m\u001b[43margs\u001b[49m\u001b[43m)\u001b[49m\n\u001b[1;32m    584\u001b[0m \u001b[38;5;66;03m# Note: don't use isinstance here, because we don't want to raise for\u001b[39;00m\n\u001b[1;32m    585\u001b[0m \u001b[38;5;66;03m# subclasses, e.g. NamedTuple objects that may override operators.\u001b[39;00m\n\u001b[1;32m    586\u001b[0m \u001b[38;5;28;01mif\u001b[39;00m \u001b[38;5;28mtype\u001b[39m(other) \u001b[38;5;129;01min\u001b[39;00m _rejected_binop_types:\n",
      "File \u001b[0;32m~/miniconda3/envs/FinalRL/lib/python3.10/site-packages/jax/_src/numpy/ufunc_api.py:182\u001b[0m, in \u001b[0;36mufunc.__call__\u001b[0;34m(self, out, where, *args)\u001b[0m\n\u001b[1;32m    180\u001b[0m   \u001b[38;5;28;01mraise\u001b[39;00m \u001b[38;5;167;01mNotImplementedError\u001b[39;00m(\u001b[38;5;124mf\u001b[39m\u001b[38;5;124m\"\u001b[39m\u001b[38;5;124mwhere argument of \u001b[39m\u001b[38;5;132;01m{\u001b[39;00m\u001b[38;5;28mself\u001b[39m\u001b[38;5;132;01m}\u001b[39;00m\u001b[38;5;124m\"\u001b[39m)\n\u001b[1;32m    181\u001b[0m call \u001b[38;5;241m=\u001b[39m \u001b[38;5;28mself\u001b[39m\u001b[38;5;241m.\u001b[39m__static_props[\u001b[38;5;124m'\u001b[39m\u001b[38;5;124mcall\u001b[39m\u001b[38;5;124m'\u001b[39m] \u001b[38;5;129;01mor\u001b[39;00m \u001b[38;5;28mself\u001b[39m\u001b[38;5;241m.\u001b[39m_call_vectorized\n\u001b[0;32m--> 182\u001b[0m \u001b[38;5;28;01mreturn\u001b[39;00m \u001b[43mcall\u001b[49m\u001b[43m(\u001b[49m\u001b[38;5;241;43m*\u001b[39;49m\u001b[43margs\u001b[49m\u001b[43m)\u001b[49m\n",
      "    \u001b[0;31m[... skipping hidden 14 frame]\u001b[0m\n",
      "File \u001b[0;32m~/miniconda3/envs/FinalRL/lib/python3.10/site-packages/jax/_src/numpy/ufuncs.py:1568\u001b[0m, in \u001b[0;36msubtract\u001b[0;34m(x, y)\u001b[0m\n\u001b[1;32m   1541\u001b[0m \u001b[38;5;129m@binary_ufunc\u001b[39m(identity\u001b[38;5;241m=\u001b[39m\u001b[38;5;28;01mNone\u001b[39;00m, at\u001b[38;5;241m=\u001b[39m_subtract_at)\n\u001b[1;32m   1542\u001b[0m \u001b[38;5;28;01mdef\u001b[39;00m\u001b[38;5;250m \u001b[39m\u001b[38;5;21msubtract\u001b[39m(x: ArrayLike, y: ArrayLike, \u001b[38;5;241m/\u001b[39m) \u001b[38;5;241m-\u001b[39m\u001b[38;5;241m>\u001b[39m Array:\n\u001b[1;32m   1543\u001b[0m \u001b[38;5;250m  \u001b[39m\u001b[38;5;124;03m\"\"\"Subtract two arrays element-wise.\u001b[39;00m\n\u001b[1;32m   1544\u001b[0m \n\u001b[1;32m   1545\u001b[0m \u001b[38;5;124;03m  JAX implementation of :obj:`numpy.subtract`. This is a universal function,\u001b[39;00m\n\u001b[0;32m   (...)\u001b[0m\n\u001b[1;32m   1566\u001b[0m \u001b[38;5;124;03m    Array([-10,  -9,  -8,  -7], dtype=int32)\u001b[39;00m\n\u001b[1;32m   1567\u001b[0m \u001b[38;5;124;03m  \"\"\"\u001b[39;00m\n\u001b[0;32m-> 1568\u001b[0m   out \u001b[38;5;241m=\u001b[39m \u001b[43mlax\u001b[49m\u001b[38;5;241;43m.\u001b[39;49m\u001b[43msub\u001b[49m\u001b[43m(\u001b[49m\u001b[38;5;241;43m*\u001b[39;49m\u001b[43mpromote_args\u001b[49m\u001b[43m(\u001b[49m\u001b[38;5;124;43m\"\u001b[39;49m\u001b[38;5;124;43msubtract\u001b[39;49m\u001b[38;5;124;43m\"\u001b[39;49m\u001b[43m,\u001b[49m\u001b[43m \u001b[49m\u001b[43mx\u001b[49m\u001b[43m,\u001b[49m\u001b[43m \u001b[49m\u001b[43my\u001b[49m\u001b[43m)\u001b[49m\u001b[43m)\u001b[49m\n\u001b[1;32m   1569\u001b[0m   jnp_error\u001b[38;5;241m.\u001b[39m_set_error_if_nan(out)\n\u001b[1;32m   1570\u001b[0m   \u001b[38;5;28;01mreturn\u001b[39;00m out\n",
      "    \u001b[0;31m[... skipping hidden 10 frame]\u001b[0m\n",
      "File \u001b[0;32m~/miniconda3/envs/FinalRL/lib/python3.10/site-packages/jax/_src/lax/lax.py:136\u001b[0m, in \u001b[0;36m_try_broadcast_shapes\u001b[0;34m(name, *shapes)\u001b[0m\n\u001b[1;32m    134\u001b[0m       result_shape\u001b[38;5;241m.\u001b[39mappend(non_1s[\u001b[38;5;241m0\u001b[39m])\n\u001b[1;32m    135\u001b[0m     \u001b[38;5;28;01melse\u001b[39;00m:\n\u001b[0;32m--> 136\u001b[0m       \u001b[38;5;28;01mraise\u001b[39;00m \u001b[38;5;167;01mTypeError\u001b[39;00m(\u001b[38;5;124mf\u001b[39m\u001b[38;5;124m'\u001b[39m\u001b[38;5;132;01m{\u001b[39;00mname\u001b[38;5;132;01m}\u001b[39;00m\u001b[38;5;124m got incompatible shapes for broadcasting: \u001b[39m\u001b[38;5;124m'\u001b[39m\n\u001b[1;32m    137\u001b[0m                       \u001b[38;5;124mf\u001b[39m\u001b[38;5;124m'\u001b[39m\u001b[38;5;132;01m{\u001b[39;00m\u001b[38;5;124m\"\u001b[39m\u001b[38;5;124m, \u001b[39m\u001b[38;5;124m\"\u001b[39m\u001b[38;5;241m.\u001b[39mjoin(\u001b[38;5;28mmap\u001b[39m(\u001b[38;5;28mstr\u001b[39m,\u001b[38;5;250m \u001b[39m\u001b[38;5;28mmap\u001b[39m(\u001b[38;5;28mtuple\u001b[39m,\u001b[38;5;250m \u001b[39mshapes)))\u001b[38;5;132;01m}\u001b[39;00m\u001b[38;5;124m.\u001b[39m\u001b[38;5;124m'\u001b[39m)\n\u001b[1;32m    138\u001b[0m \u001b[38;5;28;01mreturn\u001b[39;00m \u001b[38;5;28mtuple\u001b[39m(result_shape)\n",
      "\u001b[0;31mTypeError\u001b[0m: sub got incompatible shapes for broadcasting: (52,), (48,)."
     ]
    }
   ],
   "source": [
    "# Build env and policy like in training, then evaluate\n",
    "from environments.custom_env import Joystick, default_config\n",
    "from brax.training.acme import running_statistics\n",
    "from brax.training.agents.ppo import networks as ppo_networks\n",
    "from utils import evaluate_policy\n",
    "\n",
    "# Environment\n",
    "xml_path = env\n",
    "env_cfg = default_config()\n",
    "env = Joystick(xml_path=str(xml_path), config=env_cfg)\n",
    "jit_reset = jax.jit(env.reset)\n",
    "jit_step = jax.jit(env.step)\n",
    "\n",
    "# Observation shape pytree as plain tuples (matches training)\n",
    "state0 = jit_reset(jax.random.PRNGKey(0))\n",
    "obs_shape = jax.tree_util.tree_map(lambda x: x.shape[-1:], state0.obs)\n",
    "\n",
    "# Network factory kwargs from training config\n",
    "net_kwargs = {}\n",
    "try:\n",
    "    from mujoco_playground.config import locomotion_params\n",
    "    ppo_params = locomotion_params.brax_ppo_config('Go1JoystickRoughTerrain')\n",
    "    if hasattr(ppo_params, 'network_factory'):\n",
    "        net_kwargs = dict(ppo_params.network_factory)\n",
    "except Exception as e:\n",
    "    print('Warning: using default network settings:', e)\n",
    "\n",
    "# Build networks and inference fn\n",
    "ppo_net = ppo_networks.make_ppo_networks(\n",
    "    obs_shape, env.action_size, preprocess_observations_fn=running_statistics.normalize, **net_kwargs\n",
    ")\n",
    "make_policy = ppo_networks.make_inference_fn(ppo_net)\n",
    "\n",
    "# Load params and evaluate\n",
    "params_arr = np.load(PARAM_FILE, allow_pickle=True)\n",
    "if getattr(params_arr, 'dtype', None) != object or len(params_arr) != 3:\n",
    "    raise ValueError(f'Unexpected params format: dtype={getattr(params_arr, \"dtype\", None)} shape={getattr(params_arr, \"shape\", None)}')\n",
    "normalizer_params, policy_params, value_params = params_arr\n",
    "params_tuple = (normalizer_params, policy_params, value_params)\n",
    "inference_fn = make_policy(params_tuple, deterministic=True)\n",
    "\n",
    "evaluate_policy(env, jax.jit(inference_fn), jit_step, jit_reset, env_cfg, env)\n"
   ]
  }
 ],
 "metadata": {
  "kernelspec": {
   "display_name": "FinalRL",
   "language": "python",
   "name": "python3"
  },
  "language_info": {
   "codemirror_mode": {
    "name": "ipython",
    "version": 3
   },
   "file_extension": ".py",
   "mimetype": "text/x-python",
   "name": "python",
   "nbconvert_exporter": "python",
   "pygments_lexer": "ipython3",
   "version": "3.10.18"
  }
 },
 "nbformat": 4,
 "nbformat_minor": 5
}
