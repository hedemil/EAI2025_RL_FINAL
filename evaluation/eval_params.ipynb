{
  "cells": [
    {
      "cell_type": "markdown",
      "metadata": {},
      "source": [
        "# Evaluate PPO Parameters (Single File)\n",
        "\n",
        "Pick one `.npy` file from `parameters/` and evaluate it using the same network configuration as training."
      ]
    },
    {
      "cell_type": "code",
      "execution_count": null,
      "metadata": {},
      "outputs": [],
      "source": [
        "from pathlib import Path\n",
        "import os, sys\n",
        "import numpy as np\n",
        "import jax\n",
        "\n",
        "# Resolve repo root\n",
        "repo_root = Path.cwd()\n",
        "for p in [repo_root] + list(repo_root.parents):\n",
        "    if (p / 'parameters').exists() and (p / 'evaluation').exists():\n",
        "        repo_root = p\n",
        "        break\n",
        "if str(repo_root) not in sys.path:\n",
        "    sys.path.append(str(repo_root))\n",
        "\n",
        "# Headless rendering for MuJoCo\n",
        "os.environ.setdefault('MUJOCO_GL', 'egl')\n",
        "repo_root"
      ]
    },
    {
      "cell_type": "code",
      "execution_count": null,
      "id": "576e72db",
      "metadata": {},
      "outputs": [],
      "source": [
        "# Paste a path from the list above\n",
        "from pathlib import Path\n",
        "PARAM_FILE = ''  # e.g., '/home/jovyan/EAI2025_RL_FINAL/parameters/params.npy' needs to be absolute path\n",
        "PARAM_FILE = Path(PARAM_FILE)\n",
        "print('Selected:', PARAM_FILE)\n",
        "assert PARAM_FILE.exists(), f'File not found: {PARAM_FILE}'\n",
        "PARAM_FILE\n"
      ]
    },
    {
      "cell_type": "code",
      "execution_count": null,
      "metadata": {},
      "outputs": [],
      "source": [
        "# Build env and policy like in training, then evaluate\n",
        "from environments.custom_env import Joystick, default_config\n",
        "from brax.training.acme import running_statistics\n",
        "from brax.training.agents.ppo import networks as ppo_networks\n",
        "from utils import evaluate_policy\n",
        "\n",
        "# Environment\n",
        "xml_path = repo_root / 'environments' / 'custom_env.xml'\n",
        "env_cfg = default_config()\n",
        "env = Joystick(xml_path=str(xml_path), config=env_cfg)\n",
        "jit_reset = jax.jit(env.reset)\n",
        "jit_step = jax.jit(env.step)\n",
        "\n",
        "# Observation shape pytree as plain tuples (matches training)\n",
        "state0 = jit_reset(jax.random.PRNGKey(0))\n",
        "obs_shape = jax.tree_util.tree_map(lambda x: x.shape[-1:], state0.obs)\n",
        "\n",
        "# Network factory kwargs from training config\n",
        "net_kwargs = {}\n",
        "try:\n",
        "    from mujoco_playground.config import locomotion_params\n",
        "    ppo_params = locomotion_params.brax_ppo_config('Go1JoystickRoughTerrain')\n",
        "    if hasattr(ppo_params, 'network_factory'):\n",
        "        net_kwargs = dict(ppo_params.network_factory)\n",
        "except Exception as e:\n",
        "    print('Warning: using default network settings:', e)\n",
        "\n",
        "# Build networks and inference fn\n",
        "ppo_net = ppo_networks.make_ppo_networks(\n",
        "    obs_shape, env.action_size, preprocess_observations_fn=running_statistics.normalize, **net_kwargs\n",
        ")\n",
        "make_policy = ppo_networks.make_inference_fn(ppo_net)\n",
        "\n",
        "# Load params and evaluate\n",
        "params_arr = np.load(PARAM_FILE, allow_pickle=True)\n",
        "if getattr(params_arr, 'dtype', None) != object or len(params_arr) != 3:\n",
        "    raise ValueError(f'Unexpected params format: dtype={getattr(params_arr, \"dtype\", None)} shape={getattr(params_arr, \"shape\", None)}')\n",
        "normalizer_params, policy_params, value_params = params_arr\n",
        "params_tuple = (normalizer_params, policy_params, value_params)\n",
        "inference_fn = make_policy(params_tuple, deterministic=True)\n",
        "\n",
        "evaluate_policy(env, jax.jit(inference_fn), jit_step, jit_reset, env_cfg, env)\n"
      ]
    }
  ],
  "metadata": {
    "kernelspec": {
      "display_name": "Python 3",
      "language": "python",
      "name": "python3"
    },
    "language_info": {
      "name": "python",
      "version": "3.10"
    }
  },
  "nbformat": 4,
  "nbformat_minor": 5
}
